{
 "cells": [
  {
   "cell_type": "code",
   "execution_count": 1,
   "id": "d675305b",
   "metadata": {
    "_cell_guid": "b1076dfc-b9ad-4769-8c92-a6c4dae69d19",
    "_uuid": "8f2839f25d086af736a60e9eeb907d3b93b6e0e5",
    "execution": {
     "iopub.execute_input": "2022-07-07T15:56:49.407291Z",
     "iopub.status.busy": "2022-07-07T15:56:49.406606Z",
     "iopub.status.idle": "2022-07-07T15:56:49.435291Z",
     "shell.execute_reply": "2022-07-07T15:56:49.433762Z"
    },
    "papermill": {
     "duration": 0.045308,
     "end_time": "2022-07-07T15:56:49.439530",
     "exception": false,
     "start_time": "2022-07-07T15:56:49.394222",
     "status": "completed"
    },
    "tags": []
   },
   "outputs": [
    {
     "name": "stdout",
     "output_type": "stream",
     "text": [
      "/kaggle/input/online-payments-fraud-detection-dataset/PS_20174392719_1491204439457_log.csv\n"
     ]
    }
   ],
   "source": [
    "# This Python 3 environment comes with many helpful analytics libraries installed\n",
    "# It is defined by the kaggle/python Docker image: https://github.com/kaggle/docker-python\n",
    "# For example, here's several helpful packages to load\n",
    "\n",
    "import numpy as np # linear algebra\n",
    "import pandas as pd # data processing, CSV file I/O (e.g. pd.read_csv)\n",
    "\n",
    "# Input data files are available in the read-only \"../input/\" directory\n",
    "# For example, running this (by clicking run or pressing Shift+Enter) will list all files under the input directory\n",
    "\n",
    "import os\n",
    "for dirname, _, filenames in os.walk('/kaggle/input'):\n",
    "    for filename in filenames:\n",
    "        print(os.path.join(dirname, filename))\n",
    "\n",
    "# You can write up to 20GB to the current directory (/kaggle/working/) that gets preserved as output when you create a version using \"Save & Run All\" \n",
    "# You can also write temporary files to /kaggle/temp/, but they won't be saved outside of the current session"
   ]
  },
  {
   "cell_type": "code",
   "execution_count": 2,
   "id": "e7c0d944",
   "metadata": {
    "execution": {
     "iopub.execute_input": "2022-07-07T15:56:49.458627Z",
     "iopub.status.busy": "2022-07-07T15:56:49.458168Z",
     "iopub.status.idle": "2022-07-07T15:56:49.469447Z",
     "shell.execute_reply": "2022-07-07T15:56:49.468173Z"
    },
    "papermill": {
     "duration": 0.023357,
     "end_time": "2022-07-07T15:56:49.472203",
     "exception": false,
     "start_time": "2022-07-07T15:56:49.448846",
     "status": "completed"
    },
    "tags": []
   },
   "outputs": [
    {
     "data": {
      "text/plain": [
       "['__notebook__.ipynb']"
      ]
     },
     "execution_count": 2,
     "metadata": {},
     "output_type": "execute_result"
    }
   ],
   "source": [
    "os.listdir()"
   ]
  },
  {
   "cell_type": "code",
   "execution_count": 3,
   "id": "34dae251",
   "metadata": {
    "execution": {
     "iopub.execute_input": "2022-07-07T15:56:49.491864Z",
     "iopub.status.busy": "2022-07-07T15:56:49.491353Z",
     "iopub.status.idle": "2022-07-07T15:57:09.854365Z",
     "shell.execute_reply": "2022-07-07T15:57:09.852964Z"
    },
    "papermill": {
     "duration": 20.376328,
     "end_time": "2022-07-07T15:57:09.857536",
     "exception": false,
     "start_time": "2022-07-07T15:56:49.481208",
     "status": "completed"
    },
    "tags": []
   },
   "outputs": [],
   "source": [
    "payments = pd.read_csv('../input/online-payments-fraud-detection-dataset/PS_20174392719_1491204439457_log.csv')"
   ]
  },
  {
   "cell_type": "code",
   "execution_count": 4,
   "id": "9afdd828",
   "metadata": {
    "execution": {
     "iopub.execute_input": "2022-07-07T15:57:09.877262Z",
     "iopub.status.busy": "2022-07-07T15:57:09.875778Z",
     "iopub.status.idle": "2022-07-07T15:57:09.901126Z",
     "shell.execute_reply": "2022-07-07T15:57:09.900293Z"
    },
    "papermill": {
     "duration": 0.037283,
     "end_time": "2022-07-07T15:57:09.903190",
     "exception": false,
     "start_time": "2022-07-07T15:57:09.865907",
     "status": "completed"
    },
    "tags": []
   },
   "outputs": [
    {
     "data": {
      "text/html": [
       "<div>\n",
       "<style scoped>\n",
       "    .dataframe tbody tr th:only-of-type {\n",
       "        vertical-align: middle;\n",
       "    }\n",
       "\n",
       "    .dataframe tbody tr th {\n",
       "        vertical-align: top;\n",
       "    }\n",
       "\n",
       "    .dataframe thead th {\n",
       "        text-align: right;\n",
       "    }\n",
       "</style>\n",
       "<table border=\"1\" class=\"dataframe\">\n",
       "  <thead>\n",
       "    <tr style=\"text-align: right;\">\n",
       "      <th></th>\n",
       "      <th>step</th>\n",
       "      <th>type</th>\n",
       "      <th>amount</th>\n",
       "      <th>nameOrig</th>\n",
       "      <th>oldbalanceOrg</th>\n",
       "      <th>newbalanceOrig</th>\n",
       "      <th>nameDest</th>\n",
       "      <th>oldbalanceDest</th>\n",
       "      <th>newbalanceDest</th>\n",
       "      <th>isFraud</th>\n",
       "      <th>isFlaggedFraud</th>\n",
       "    </tr>\n",
       "  </thead>\n",
       "  <tbody>\n",
       "    <tr>\n",
       "      <th>0</th>\n",
       "      <td>1</td>\n",
       "      <td>PAYMENT</td>\n",
       "      <td>9839.64</td>\n",
       "      <td>C1231006815</td>\n",
       "      <td>170136.0</td>\n",
       "      <td>160296.36</td>\n",
       "      <td>M1979787155</td>\n",
       "      <td>0.0</td>\n",
       "      <td>0.0</td>\n",
       "      <td>0</td>\n",
       "      <td>0</td>\n",
       "    </tr>\n",
       "    <tr>\n",
       "      <th>1</th>\n",
       "      <td>1</td>\n",
       "      <td>PAYMENT</td>\n",
       "      <td>1864.28</td>\n",
       "      <td>C1666544295</td>\n",
       "      <td>21249.0</td>\n",
       "      <td>19384.72</td>\n",
       "      <td>M2044282225</td>\n",
       "      <td>0.0</td>\n",
       "      <td>0.0</td>\n",
       "      <td>0</td>\n",
       "      <td>0</td>\n",
       "    </tr>\n",
       "    <tr>\n",
       "      <th>2</th>\n",
       "      <td>1</td>\n",
       "      <td>TRANSFER</td>\n",
       "      <td>181.00</td>\n",
       "      <td>C1305486145</td>\n",
       "      <td>181.0</td>\n",
       "      <td>0.00</td>\n",
       "      <td>C553264065</td>\n",
       "      <td>0.0</td>\n",
       "      <td>0.0</td>\n",
       "      <td>1</td>\n",
       "      <td>0</td>\n",
       "    </tr>\n",
       "    <tr>\n",
       "      <th>3</th>\n",
       "      <td>1</td>\n",
       "      <td>CASH_OUT</td>\n",
       "      <td>181.00</td>\n",
       "      <td>C840083671</td>\n",
       "      <td>181.0</td>\n",
       "      <td>0.00</td>\n",
       "      <td>C38997010</td>\n",
       "      <td>21182.0</td>\n",
       "      <td>0.0</td>\n",
       "      <td>1</td>\n",
       "      <td>0</td>\n",
       "    </tr>\n",
       "    <tr>\n",
       "      <th>4</th>\n",
       "      <td>1</td>\n",
       "      <td>PAYMENT</td>\n",
       "      <td>11668.14</td>\n",
       "      <td>C2048537720</td>\n",
       "      <td>41554.0</td>\n",
       "      <td>29885.86</td>\n",
       "      <td>M1230701703</td>\n",
       "      <td>0.0</td>\n",
       "      <td>0.0</td>\n",
       "      <td>0</td>\n",
       "      <td>0</td>\n",
       "    </tr>\n",
       "  </tbody>\n",
       "</table>\n",
       "</div>"
      ],
      "text/plain": [
       "   step      type    amount     nameOrig  oldbalanceOrg  newbalanceOrig  \\\n",
       "0     1   PAYMENT   9839.64  C1231006815       170136.0       160296.36   \n",
       "1     1   PAYMENT   1864.28  C1666544295        21249.0        19384.72   \n",
       "2     1  TRANSFER    181.00  C1305486145          181.0            0.00   \n",
       "3     1  CASH_OUT    181.00   C840083671          181.0            0.00   \n",
       "4     1   PAYMENT  11668.14  C2048537720        41554.0        29885.86   \n",
       "\n",
       "      nameDest  oldbalanceDest  newbalanceDest  isFraud  isFlaggedFraud  \n",
       "0  M1979787155             0.0             0.0        0               0  \n",
       "1  M2044282225             0.0             0.0        0               0  \n",
       "2   C553264065             0.0             0.0        1               0  \n",
       "3    C38997010         21182.0             0.0        1               0  \n",
       "4  M1230701703             0.0             0.0        0               0  "
      ]
     },
     "execution_count": 4,
     "metadata": {},
     "output_type": "execute_result"
    }
   ],
   "source": [
    "#initial table observe\n",
    "payments.head()\n"
   ]
  },
  {
   "cell_type": "code",
   "execution_count": 5,
   "id": "20f5e305",
   "metadata": {
    "execution": {
     "iopub.execute_input": "2022-07-07T15:57:09.920744Z",
     "iopub.status.busy": "2022-07-07T15:57:09.920342Z",
     "iopub.status.idle": "2022-07-07T15:57:12.066739Z",
     "shell.execute_reply": "2022-07-07T15:57:12.065917Z"
    },
    "papermill": {
     "duration": 2.158116,
     "end_time": "2022-07-07T15:57:12.069105",
     "exception": false,
     "start_time": "2022-07-07T15:57:09.910989",
     "status": "completed"
    },
    "tags": []
   },
   "outputs": [
    {
     "data": {
      "text/plain": [
       "step              6362620\n",
       "type              6362620\n",
       "amount            6362620\n",
       "nameOrig          6362620\n",
       "oldbalanceOrg     6362620\n",
       "newbalanceOrig    6362620\n",
       "nameDest          6362620\n",
       "oldbalanceDest    6362620\n",
       "newbalanceDest    6362620\n",
       "isFraud           6362620\n",
       "isFlaggedFraud    6362620\n",
       "dtype: int64"
      ]
     },
     "execution_count": 5,
     "metadata": {},
     "output_type": "execute_result"
    }
   ],
   "source": [
    "#column count\n",
    "payments.count()"
   ]
  },
  {
   "cell_type": "markdown",
   "id": "a7925740",
   "metadata": {
    "papermill": {
     "duration": 0.007923,
     "end_time": "2022-07-07T15:57:12.085445",
     "exception": false,
     "start_time": "2022-07-07T15:57:12.077522",
     "status": "completed"
    },
    "tags": []
   },
   "source": []
  },
  {
   "cell_type": "code",
   "execution_count": 6,
   "id": "ab72c35d",
   "metadata": {
    "execution": {
     "iopub.execute_input": "2022-07-07T15:57:12.103682Z",
     "iopub.status.busy": "2022-07-07T15:57:12.103053Z",
     "iopub.status.idle": "2022-07-07T15:57:12.124436Z",
     "shell.execute_reply": "2022-07-07T15:57:12.123621Z"
    },
    "papermill": {
     "duration": 0.033404,
     "end_time": "2022-07-07T15:57:12.127032",
     "exception": false,
     "start_time": "2022-07-07T15:57:12.093628",
     "status": "completed"
    },
    "tags": []
   },
   "outputs": [
    {
     "name": "stdout",
     "output_type": "stream",
     "text": [
      "<class 'pandas.core.frame.DataFrame'>\n",
      "RangeIndex: 6362620 entries, 0 to 6362619\n",
      "Data columns (total 11 columns):\n",
      " #   Column          Dtype  \n",
      "---  ------          -----  \n",
      " 0   step            int64  \n",
      " 1   type            object \n",
      " 2   amount          float64\n",
      " 3   nameOrig        object \n",
      " 4   oldbalanceOrg   float64\n",
      " 5   newbalanceOrig  float64\n",
      " 6   nameDest        object \n",
      " 7   oldbalanceDest  float64\n",
      " 8   newbalanceDest  float64\n",
      " 9   isFraud         int64  \n",
      " 10  isFlaggedFraud  int64  \n",
      "dtypes: float64(5), int64(3), object(3)\n",
      "memory usage: 534.0+ MB\n"
     ]
    }
   ],
   "source": [
    "#data types\n",
    "payments.info()"
   ]
  },
  {
   "cell_type": "code",
   "execution_count": 7,
   "id": "b7216e7b",
   "metadata": {
    "execution": {
     "iopub.execute_input": "2022-07-07T15:57:12.146794Z",
     "iopub.status.busy": "2022-07-07T15:57:12.146414Z",
     "iopub.status.idle": "2022-07-07T15:57:14.272964Z",
     "shell.execute_reply": "2022-07-07T15:57:14.271560Z"
    },
    "papermill": {
     "duration": 2.139935,
     "end_time": "2022-07-07T15:57:14.275674",
     "exception": false,
     "start_time": "2022-07-07T15:57:12.135739",
     "status": "completed"
    },
    "tags": []
   },
   "outputs": [
    {
     "data": {
      "text/plain": [
       "step              0\n",
       "type              0\n",
       "amount            0\n",
       "nameOrig          0\n",
       "oldbalanceOrg     0\n",
       "newbalanceOrig    0\n",
       "nameDest          0\n",
       "oldbalanceDest    0\n",
       "newbalanceDest    0\n",
       "isFraud           0\n",
       "isFlaggedFraud    0\n",
       "dtype: int64"
      ]
     },
     "execution_count": 7,
     "metadata": {},
     "output_type": "execute_result"
    }
   ],
   "source": [
    "#get null values\n",
    "payments.isnull().sum()"
   ]
  },
  {
   "cell_type": "code",
   "execution_count": 8,
   "id": "2ab755cc",
   "metadata": {
    "execution": {
     "iopub.execute_input": "2022-07-07T15:57:14.295484Z",
     "iopub.status.busy": "2022-07-07T15:57:14.295058Z",
     "iopub.status.idle": "2022-07-07T15:57:32.082139Z",
     "shell.execute_reply": "2022-07-07T15:57:32.080771Z"
    },
    "papermill": {
     "duration": 17.799965,
     "end_time": "2022-07-07T15:57:32.084696",
     "exception": false,
     "start_time": "2022-07-07T15:57:14.284731",
     "status": "completed"
    },
    "tags": []
   },
   "outputs": [
    {
     "data": {
      "text/plain": [
       "False"
      ]
     },
     "execution_count": 8,
     "metadata": {},
     "output_type": "execute_result"
    }
   ],
   "source": [
    "payments.duplicated().any()"
   ]
  },
  {
   "cell_type": "code",
   "execution_count": 9,
   "id": "26d53c9b",
   "metadata": {
    "execution": {
     "iopub.execute_input": "2022-07-07T15:57:32.102762Z",
     "iopub.status.busy": "2022-07-07T15:57:32.102369Z",
     "iopub.status.idle": "2022-07-07T15:57:32.621718Z",
     "shell.execute_reply": "2022-07-07T15:57:32.620237Z"
    },
    "papermill": {
     "duration": 0.531742,
     "end_time": "2022-07-07T15:57:32.624815",
     "exception": false,
     "start_time": "2022-07-07T15:57:32.093073",
     "status": "completed"
    },
    "tags": []
   },
   "outputs": [],
   "source": [
    "typeslist=list(payments['type'].unique())"
   ]
  },
  {
   "cell_type": "code",
   "execution_count": 10,
   "id": "fbc901bf",
   "metadata": {
    "execution": {
     "iopub.execute_input": "2022-07-07T15:57:32.644313Z",
     "iopub.status.busy": "2022-07-07T15:57:32.643868Z",
     "iopub.status.idle": "2022-07-07T15:57:33.684684Z",
     "shell.execute_reply": "2022-07-07T15:57:33.682681Z"
    },
    "papermill": {
     "duration": 1.054,
     "end_time": "2022-07-07T15:57:33.687659",
     "exception": false,
     "start_time": "2022-07-07T15:57:32.633659",
     "status": "completed"
    },
    "tags": []
   },
   "outputs": [
    {
     "name": "stdout",
     "output_type": "stream",
     "text": [
      "{'CASH_OUT': 2237500, 'PAYMENT': 2151495, 'CASH_IN': 1399284, 'TRANSFER': 532909, 'DEBIT': 41432}\n"
     ]
    }
   ],
   "source": [
    "#number of transactions per type\n",
    "paymentstypedict = payments[\"type\"].value_counts().to_dict()\n",
    "print (paymentstypedict)"
   ]
  },
  {
   "cell_type": "code",
   "execution_count": 11,
   "id": "2df9a20b",
   "metadata": {
    "execution": {
     "iopub.execute_input": "2022-07-07T15:57:33.709551Z",
     "iopub.status.busy": "2022-07-07T15:57:33.708670Z",
     "iopub.status.idle": "2022-07-07T15:57:33.716964Z",
     "shell.execute_reply": "2022-07-07T15:57:33.715162Z"
    },
    "papermill": {
     "duration": 0.022043,
     "end_time": "2022-07-07T15:57:33.719405",
     "exception": true,
     "start_time": "2022-07-07T15:57:33.697362",
     "status": "failed"
    },
    "tags": []
   },
   "outputs": [
    {
     "ename": "SyntaxError",
     "evalue": "invalid syntax (168909017.py, line 1)",
     "output_type": "error",
     "traceback": [
      "\u001b[0;36m  File \u001b[0;32m\"/tmp/ipykernel_19/168909017.py\"\u001b[0;36m, line \u001b[0;32m1\u001b[0m\n\u001b[0;31m    payments.groupby(\"type\")[\"isFraud\"].transform('nunique').eq(1)]\u001b[0m\n\u001b[0m                                                                  ^\u001b[0m\n\u001b[0;31mSyntaxError\u001b[0m\u001b[0;31m:\u001b[0m invalid syntax\n"
     ]
    }
   ],
   "source": [
    "payments.groupby(\"type\")[\"isFraud\"].transform('nunique').eq(1)]"
   ]
  },
  {
   "cell_type": "code",
   "execution_count": null,
   "id": "91a75af5",
   "metadata": {
    "execution": {
     "iopub.execute_input": "2022-07-07T14:52:48.441313Z",
     "iopub.status.busy": "2022-07-07T14:52:48.440869Z",
     "iopub.status.idle": "2022-07-07T14:52:49.478737Z",
     "shell.execute_reply": "2022-07-07T14:52:49.476982Z",
     "shell.execute_reply.started": "2022-07-07T14:52:48.441281Z"
    },
    "papermill": {
     "duration": null,
     "end_time": null,
     "exception": null,
     "start_time": null,
     "status": "pending"
    },
    "tags": []
   },
   "outputs": [],
   "source": [
    "#number of notfraud and isfraud\n",
    "paymentstypedict = payments[\"type\"].value_counts().to_dict()\n",
    "print (paymentstypedict)"
   ]
  },
  {
   "cell_type": "code",
   "execution_count": null,
   "id": "7d5b4167",
   "metadata": {
    "execution": {
     "iopub.execute_input": "2022-07-07T15:33:08.511299Z",
     "iopub.status.busy": "2022-07-07T15:33:08.510798Z",
     "iopub.status.idle": "2022-07-07T15:33:08.631809Z",
     "shell.execute_reply": "2022-07-07T15:33:08.630118Z",
     "shell.execute_reply.started": "2022-07-07T15:33:08.511264Z"
    },
    "papermill": {
     "duration": null,
     "end_time": null,
     "exception": null,
     "start_time": null,
     "status": "pending"
    },
    "tags": []
   },
   "outputs": [],
   "source": [
    "#Graph for amount ratios\n",
    "import matplotlib.pyplot as plt\n",
    "import numpy as np\n",
    "\n",
    "paymentstypelist, typeslist =[],[]\n",
    "for values in paymentstypedict:\n",
    "    paymentstypelist.append(paymentstypedict[values])\n",
    "    typeslist.append(values)\n",
    "    \n",
    "y = np.array(paymentstypelist)\n",
    "\n",
    "plt.pie(y, labels=typeslist)\n",
    "#plt.legend(title = \"Payment Types Ratio\",loc='upper right')\n",
    "plt.show()"
   ]
  },
  {
   "cell_type": "code",
   "execution_count": null,
   "id": "d222941f",
   "metadata": {
    "papermill": {
     "duration": null,
     "end_time": null,
     "exception": null,
     "start_time": null,
     "status": "pending"
    },
    "tags": []
   },
   "outputs": [],
   "source": [
    "#GET FRAUD RATIOS BASED ON TRANSACTION TYPE\n",
    "typedict={}\n",
    "for values in paymentstypedict:\n",
    "#     typedict[values]=0\n",
    "    typedict[values]=[0,0]\n",
    "\n",
    "    \n",
    "#print (typedict)\n",
    "for types, fraudtype in zip (payments[\"type\"].tolist(),payments[\"isFraud\"].tolist()):\n",
    "    if fraudtype==0:\n",
    "        typedict[types][0]+=1\n",
    "    elif fraudtype==1:\n",
    "        typedict[types][1]+=1\n",
    "    \n",
    "print (typedict)"
   ]
  },
  {
   "cell_type": "code",
   "execution_count": null,
   "id": "0fa12531",
   "metadata": {
    "execution": {
     "iopub.execute_input": "2022-07-07T15:35:09.230930Z",
     "iopub.status.busy": "2022-07-07T15:35:09.230532Z",
     "iopub.status.idle": "2022-07-07T15:35:09.476408Z",
     "shell.execute_reply": "2022-07-07T15:35:09.475065Z",
     "shell.execute_reply.started": "2022-07-07T15:35:09.230900Z"
    },
    "papermill": {
     "duration": null,
     "end_time": null,
     "exception": null,
     "start_time": null,
     "status": "pending"
    },
    "tags": []
   },
   "outputs": [],
   "source": [
    "#Graph for Number of notFraud/isFraud Transactions\n",
    "X, notFraud, isFraud=[],[],[]\n",
    "for values in typedict:\n",
    "    X.append(values)\n",
    "    notFraud.append(typedict[values][0])\n",
    "    isFraud.append(typedict[values][1])\n",
    "print(X, notFraud, isFraud) \n",
    "\n",
    "X_axis = np.arange(len(X))\n",
    "  \n",
    "plt.bar(X_axis - 0.2, notFraud, 0.4, label = 'notFraud')\n",
    "plt.bar(X_axis + 0.2, isFraud, 0.4, label = 'isFraud')\n",
    "  \n",
    "plt.xticks(X_axis, X)\n",
    "plt.xlabel(\"Payments\")\n",
    "plt.ylabel(\"Number of Transactions\")\n",
    "plt.title(\"Number of notFraud/isFraud Transactions\")\n",
    "plt.legend()\n",
    "plt.show()"
   ]
  },
  {
   "cell_type": "code",
   "execution_count": null,
   "id": "dc802659",
   "metadata": {
    "execution": {
     "iopub.execute_input": "2022-07-07T15:35:19.611565Z",
     "iopub.status.busy": "2022-07-07T15:35:19.610426Z",
     "iopub.status.idle": "2022-07-07T15:35:25.611566Z",
     "shell.execute_reply": "2022-07-07T15:35:25.610040Z",
     "shell.execute_reply.started": "2022-07-07T15:35:19.611507Z"
    },
    "papermill": {
     "duration": null,
     "end_time": null,
     "exception": null,
     "start_time": null,
     "status": "pending"
    },
    "tags": []
   },
   "outputs": [],
   "source": [
    "amountsent=payments[\"amount\"].tolist()\n",
    "from collections import Counter\n",
    "data = Counter(amountsent)\n",
    "data.most_common() \n"
   ]
  },
  {
   "cell_type": "code",
   "execution_count": null,
   "id": "12384b31",
   "metadata": {
    "execution": {
     "iopub.execute_input": "2022-07-07T15:01:51.178058Z",
     "iopub.status.busy": "2022-07-07T15:01:51.177055Z",
     "iopub.status.idle": "2022-07-07T15:01:51.815992Z",
     "shell.execute_reply": "2022-07-07T15:01:51.814571Z",
     "shell.execute_reply.started": "2022-07-07T15:01:51.178011Z"
    },
    "papermill": {
     "duration": null,
     "end_time": null,
     "exception": null,
     "start_time": null,
     "status": "pending"
    },
    "tags": []
   },
   "outputs": [],
   "source": [
    "#know maximum amount\n",
    "max(payments[\"amount\"].tolist())"
   ]
  },
  {
   "cell_type": "code",
   "execution_count": null,
   "id": "3b4e37b2",
   "metadata": {
    "execution": {
     "iopub.execute_input": "2022-07-07T15:35:37.691687Z",
     "iopub.status.busy": "2022-07-07T15:35:37.690810Z",
     "iopub.status.idle": "2022-07-07T15:35:41.716099Z",
     "shell.execute_reply": "2022-07-07T15:35:41.714680Z",
     "shell.execute_reply.started": "2022-07-07T15:35:37.691649Z"
    },
    "papermill": {
     "duration": null,
     "end_time": null,
     "exception": null,
     "start_time": null,
     "status": "pending"
    },
    "tags": []
   },
   "outputs": [],
   "source": [
    "amountranges={\"1000\":0,\"10000\":0,\"100000\":0,\"1000000\":0,\"10000000\":0,\"100000000\":0}\n",
    "for amounts in amountsent:\n",
    "    if amounts>0 and amounts<1001:\n",
    "        amountranges[\"1000\"]+=1\n",
    "    elif amounts>1000 and amounts<10001:\n",
    "        amountranges[\"10000\"]+=1\n",
    "    elif amounts>10000 and amounts<100001:\n",
    "        amountranges[\"100000\"]+=1\n",
    "    elif amounts>100000 and amounts<1000001:\n",
    "        amountranges[\"1000000\"]+=1\n",
    "    elif amounts>1000000 and amounts<10000001:\n",
    "        amountranges[\"10000000\"]+=1\n",
    "    elif amounts>10000000 and amounts<100000001:\n",
    "        amountranges[\"100000000\"]+=1\n",
    "        \n",
    "print(amountranges)"
   ]
  },
  {
   "cell_type": "code",
   "execution_count": null,
   "id": "4f2d780e",
   "metadata": {
    "execution": {
     "iopub.execute_input": "2022-07-07T15:35:55.052632Z",
     "iopub.status.busy": "2022-07-07T15:35:55.052196Z",
     "iopub.status.idle": "2022-07-07T15:41:44.412413Z",
     "shell.execute_reply": "2022-07-07T15:41:44.410866Z",
     "shell.execute_reply.started": "2022-07-07T15:35:55.052599Z"
    },
    "papermill": {
     "duration": null,
     "end_time": null,
     "exception": null,
     "start_time": null,
     "status": "pending"
    },
    "tags": []
   },
   "outputs": [],
   "source": [
    "#GET FRAUD RATIOS BASED ON AMOUNT TYPE\n",
    "amountdict={}\n",
    "for ranges in amountranges:\n",
    "    amountdict[ranges]=[0,0]\n",
    "\n",
    "    \n",
    "#print (typedict)\n",
    "for amounts, fraudtype in zip (amountsent,payments[\"isFraud\"].tolist()):\n",
    "    for ranges in amountranges:\n",
    "        if amounts in range(int(ranges)):\n",
    "            if fraudtype==0:\n",
    "                amountdict[ranges][0]+=1\n",
    "            elif fraudtype==1:\n",
    "                amountdict[ranges][1]+=1\n",
    "    \n",
    "print (amountdict)"
   ]
  },
  {
   "cell_type": "code",
   "execution_count": null,
   "id": "4df4cf72",
   "metadata": {
    "execution": {
     "iopub.execute_input": "2022-07-07T15:41:51.700880Z",
     "iopub.status.busy": "2022-07-07T15:41:51.700420Z",
     "iopub.status.idle": "2022-07-07T15:41:55.913724Z",
     "shell.execute_reply": "2022-07-07T15:41:55.912487Z",
     "shell.execute_reply.started": "2022-07-07T15:41:51.700843Z"
    },
    "papermill": {
     "duration": null,
     "end_time": null,
     "exception": null,
     "start_time": null,
     "status": "pending"
    },
    "tags": []
   },
   "outputs": [],
   "source": [
    "oldbal=payments[\"oldbalanceOrg\"].tolist()\n",
    "oldbalranges={\"1000\":0,\"10000\":0,\"100000\":0,\"1000000\":0,\"10000000\":0,\"100000000\":0}\n",
    "for amounts in oldbal:\n",
    "    if amounts>0 and amounts<1001:\n",
    "        oldbalranges[\"1000\"]+=1\n",
    "    elif amounts>1000 and amounts<10001:\n",
    "        oldbalranges[\"10000\"]+=1\n",
    "    elif amounts>10000 and amounts<100001:\n",
    "        oldbalranges[\"100000\"]+=1\n",
    "    elif amounts>100000 and amounts<1000001:\n",
    "        oldbalranges[\"1000000\"]+=1\n",
    "    elif amounts>1000000 and amounts<10000001:\n",
    "        oldbalranges[\"10000000\"]+=1\n",
    "    elif amounts>10000000 and amounts<100000001:\n",
    "        oldbalranges[\"100000000\"]+=1\n",
    "        \n",
    "print(oldbalranges)"
   ]
  },
  {
   "cell_type": "code",
   "execution_count": null,
   "id": "87a3db95",
   "metadata": {
    "execution": {
     "iopub.execute_input": "2022-07-07T15:43:45.619464Z",
     "iopub.status.busy": "2022-07-07T15:43:45.619045Z"
    },
    "papermill": {
     "duration": null,
     "end_time": null,
     "exception": null,
     "start_time": null,
     "status": "pending"
    },
    "tags": []
   },
   "outputs": [],
   "source": [
    "#GET FRAUD RATIOS BASED ON OLD BALANCE TYPE\n",
    "oldbaldict={}\n",
    "for ranges in oldbalranges:\n",
    "    oldbaldict[ranges]=[0,0]\n",
    "\n",
    "    \n",
    "#print (typedict)\n",
    "for amounts, fraudtype in zip (oldbal,payments[\"isFraud\"].tolist()):\n",
    "    for ranges in oldbalranges:\n",
    "        if amounts in range(int(ranges)):\n",
    "            if fraudtype==0:\n",
    "                oldbaldict[ranges][0]+=1\n",
    "            elif fraudtype==1:\n",
    "                oldbaldict[ranges][1]+=1\n",
    "    \n",
    "print (oldbaldict)"
   ]
  },
  {
   "cell_type": "code",
   "execution_count": null,
   "id": "2a2803ce",
   "metadata": {
    "execution": {
     "iopub.execute_input": "2022-07-07T13:52:37.852583Z",
     "iopub.status.busy": "2022-07-07T13:52:37.852093Z",
     "iopub.status.idle": "2022-07-07T13:52:39.042948Z",
     "shell.execute_reply": "2022-07-07T13:52:39.041164Z",
     "shell.execute_reply.started": "2022-07-07T13:52:37.852548Z"
    },
    "papermill": {
     "duration": null,
     "end_time": null,
     "exception": null,
     "start_time": null,
     "status": "pending"
    },
    "tags": []
   },
   "outputs": [],
   "source": [
    "# Importing the normalizing library\n",
    "from sklearn.preprocessing import Normalizer\n",
    "\n",
    "normalize = Normalizer()\n",
    "\n",
    "# Colums to be processed\n",
    "cols = ['type', 'amount', 'oldbalanceOrg', 'newbalanceOrig', 'oldbalanceDest', 'newbalanceDest', 'isFraud']"
   ]
  },
  {
   "cell_type": "code",
   "execution_count": null,
   "id": "7072aca1",
   "metadata": {
    "execution": {
     "iopub.execute_input": "2022-07-07T13:56:52.129341Z",
     "iopub.status.busy": "2022-07-07T13:56:52.128796Z",
     "iopub.status.idle": "2022-07-07T13:56:53.452302Z",
     "shell.execute_reply": "2022-07-07T13:56:53.451299Z",
     "shell.execute_reply.started": "2022-07-07T13:56:52.129294Z"
    },
    "papermill": {
     "duration": null,
     "end_time": null,
     "exception": null,
     "start_time": null,
     "status": "pending"
    },
    "tags": []
   },
   "outputs": [],
   "source": [
    "#Normalizing numeric values\n",
    "datanew = payments[cols].copy(deep=True)\n",
    "\n",
    "# Columns with numeric values\n",
    "numcols = ['amount', 'oldbalanceOrg', 'newbalanceOrig', 'oldbalanceDest', 'newbalanceDest']\n",
    "\n",
    "# Normalize them\n",
    "datanew[numcols] = normalize.fit_transform(datanew[numcols])"
   ]
  },
  {
   "cell_type": "code",
   "execution_count": null,
   "id": "b1c16fb2",
   "metadata": {
    "papermill": {
     "duration": null,
     "end_time": null,
     "exception": null,
     "start_time": null,
     "status": "pending"
    },
    "tags": []
   },
   "outputs": [],
   "source": []
  }
 ],
 "metadata": {
  "kernelspec": {
   "display_name": "Python 3",
   "language": "python",
   "name": "python3"
  },
  "language_info": {
   "codemirror_mode": {
    "name": "ipython",
    "version": 3
   },
   "file_extension": ".py",
   "mimetype": "text/x-python",
   "name": "python",
   "nbconvert_exporter": "python",
   "pygments_lexer": "ipython3",
   "version": "3.7.12"
  },
  "papermill": {
   "default_parameters": {},
   "duration": 56.53392,
   "end_time": "2022-07-07T15:57:34.854310",
   "environment_variables": {},
   "exception": true,
   "input_path": "__notebook__.ipynb",
   "output_path": "__notebook__.ipynb",
   "parameters": {},
   "start_time": "2022-07-07T15:56:38.320390",
   "version": "2.3.4"
  }
 },
 "nbformat": 4,
 "nbformat_minor": 5
}
